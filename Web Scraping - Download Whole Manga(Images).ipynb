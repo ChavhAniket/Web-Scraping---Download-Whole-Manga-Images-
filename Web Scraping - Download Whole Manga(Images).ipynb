{
 "cells": [
  {
   "cell_type": "code",
   "execution_count": 2,
   "id": "1dad1522",
   "metadata": {},
   "outputs": [],
   "source": [
    "import requests\n",
    "from bs4 import BeautifulSoup\n",
    "import os"
   ]
  },
  {
   "cell_type": "code",
   "execution_count": null,
   "id": "151ff3b1",
   "metadata": {},
   "outputs": [],
   "source": [
    "for x in range(1,158):\n",
    "    url = 'https://www.mangainn.net/solo-leveling-3/%s/all-pages'%(x)\n",
    "    r = requests.get(url)\n",
    "    soup = BeautifulSoup(r.text, 'html.parser')\n",
    "    images = soup.find_all('img')\n",
    "    path = 'D:\\Data Science\\Project\\Solo Leveling'\n",
    "    name = 0\n",
    "    folder_name = soup.title.text\n",
    "    folder = os.path.join('D:\\Data Science\\Project\\Solo Leveling', folder_name)\n",
    "    file_name = '{}.txt'.format(folder_name)\n",
    "    file = os.path.join(folder, file_name)\n",
    "    os.makedirs(folder)\n",
    "    os.chdir('D:\\Data Science\\Project\\Solo Leveling\\%s'%(folder_name))\n",
    "    for image in images:\n",
    "        link = image['src']\n",
    "        with open(str(name) + '.jpg', 'wb') as f:\n",
    "            im = requests.get(link)\n",
    "            f.write(im.content)\n",
    "        name = name + 1"
   ]
  },
  {
   "cell_type": "code",
   "execution_count": null,
   "id": "183ab5dc",
   "metadata": {},
   "outputs": [],
   "source": []
  }
 ],
 "metadata": {
  "kernelspec": {
   "display_name": "Python 3",
   "language": "python",
   "name": "python3"
  },
  "language_info": {
   "codemirror_mode": {
    "name": "ipython",
    "version": 3
   },
   "file_extension": ".py",
   "mimetype": "text/x-python",
   "name": "python",
   "nbconvert_exporter": "python",
   "pygments_lexer": "ipython3",
   "version": "3.9.2"
  }
 },
 "nbformat": 4,
 "nbformat_minor": 5
}
